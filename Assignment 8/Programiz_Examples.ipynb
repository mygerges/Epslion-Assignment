{
 "cells": [
  {
   "cell_type": "markdown",
   "metadata": {},
   "source": [
    "<h4>1- A leap year is exactly divisible by 4 except for century years (years ending with 00). The century year is a leap year only if it is perfectly divisible by 400. For example,<h4>\n",
    "\n",
    "2017 is not a leap year<br>\n",
    "1900 is a not leap year<br>\n",
    "2012 is a leap year<br>\n",
    "2000 is a leap year"
   ]
  },
  {
   "cell_type": "code",
   "execution_count": 7,
   "metadata": {
    "scrolled": true
   },
   "outputs": [
    {
     "name": "stdout",
     "output_type": "stream",
     "text": [
      "Enter year to check:\n",
      "2000\n",
      "2000 is a leap year\n"
     ]
    }
   ],
   "source": [
    "year = int(input(\"Enter year to check:\\n\"))\n",
    "if (year % 4) == 0:\n",
    "   if (year % 100) == 0:\n",
    "       if (year % 400) == 0:\n",
    "           print(f\"{year} is a leap year\")\n",
    "       else:\n",
    "           print(f\"{year} is not a leap year\")\n",
    "   else:\n",
    "       print(f\"{year} is a leap year\")\n",
    "else:\n",
    "   print(f\"{year} is not a leap year\")"
   ]
  },
  {
   "cell_type": "markdown",
   "metadata": {},
   "source": [
    "### 2- Python Program to Check Prime Number <br>\n",
    "\n",
    "###### A positive integer greater than 1 which has no other factors except 1 and the number itself is called a prime number. 2, 3, 5, 7 etc. are prime numbers as they do not have any other factors. But 6 is not prime (it is composite) since, 2 x 3 = 6.\n"
   ]
  },
  {
   "cell_type": "code",
   "execution_count": 9,
   "metadata": {},
   "outputs": [
    {
     "name": "stdout",
     "output_type": "stream",
     "text": [
      "Enter Number:\n",
      "51\n",
      "51 is not a prime number\n"
     ]
    }
   ],
   "source": [
    "num = int(input(\"Enter Number:\\n\"))\n",
    "if num > 1:\n",
    "   # check for factors\n",
    "   for i in range(2,num):\n",
    "       if (num % i) == 0:\n",
    "           print(num,\"is not a prime number\")\n",
    "           break\n",
    "   else:\n",
    "       print(f\"{num} is a prime number\")\n",
    "else:\n",
    "   print(f\"{num} is not a prime number\")"
   ]
  },
  {
   "cell_type": "markdown",
   "metadata": {},
   "source": [
    "### 3- Python Program to Make a Simple Calculator"
   ]
  },
  {
   "cell_type": "code",
   "execution_count": 11,
   "metadata": {},
   "outputs": [
    {
     "name": "stdout",
     "output_type": "stream",
     "text": [
      "What's the first number? : 5\n",
      "+\n",
      "/\n",
      "-\n",
      "*\n",
      "Pick an Operation :\n",
      "+\n",
      "What's the next number? : 2\n",
      "5 + 2 = 7\n",
      "Do you want to continue calclation type 'yes' or 'no'yes\n",
      "Pick an Operation :\n",
      "/\n",
      "What's the next number? : 2\n",
      "7 / 2 = 3.5\n",
      "Do you want to continue calclation type 'yes' or 'no'no\n",
      "7 / 2 = 3.5\n"
     ]
    }
   ],
   "source": [
    "def addition(n1, n2):\n",
    "    return n1 + n2\n",
    "\n",
    "def division(n1, n2):\n",
    "    return n1 / n2\n",
    "\n",
    "def subtraction(n1, n2):\n",
    "    return n1 - n2\n",
    "\n",
    "def multiplication(n1, n2):\n",
    "    return n1 * n2\n",
    "\n",
    "calculation = {\n",
    "    \"+\" : addition,\n",
    "    \"/\" : division,\n",
    "    \"-\" : subtraction,\n",
    "    \"*\" : multiplication\n",
    "}\n",
    "\n",
    "number1 =  int(input(\"What's the first number? : \"))\n",
    "for symbol in calculation:\n",
    "    print(symbol)\n",
    "\n",
    "# \n",
    "calculation_continue = True\n",
    "while calculation_continue:\n",
    "    operations = input(\"Pick an Operation :\\n\")\n",
    "    number2 =  int(input(\"What's the next number? : \"))\n",
    "    calculation_function = calculation[operations]\n",
    "    answer = calculation_function(number1, number2)\n",
    "    print(f\"{number1} {operations} {number2} = {answer}\")\n",
    "    if input(\"Do you want to continue calclation type 'yes' or 'no'\").lower().strip() == \"yes\":\n",
    "        number1 = answer\n",
    "    else:\n",
    "        calculation_continue = False\n",
    "        print(f\"{number1} {operations} {number2} = {answer}\")"
   ]
  },
  {
   "cell_type": "markdown",
   "metadata": {},
   "source": [
    "### 4- Python Program to Find the Largest Among Three Numbers"
   ]
  },
  {
   "cell_type": "code",
   "execution_count": 15,
   "metadata": {},
   "outputs": [
    {
     "name": "stdout",
     "output_type": "stream",
     "text": [
      "Enter First Number: 5\n",
      "Enter Second Number: 15\n",
      "Enter Third Number: 25\n",
      "The largest number is 25\n"
     ]
    }
   ],
   "source": [
    "num1 = int(input(\"Enter First Number: \"))\n",
    "num2 = int(input(\"Enter Second Number: \"))\n",
    "num3 = int(input(\"Enter Third Number: \"))\n",
    "if (num1 >= num2) and (num1 >= num3):\n",
    "   largest = num1\n",
    "elif (num2 >= num1) and (num2 >= num3):\n",
    "   largest = num2\n",
    "else:\n",
    "   largest = num3\n",
    "\n",
    "print(f\"The largest number is {largest}\")"
   ]
  },
  {
   "cell_type": "markdown",
   "metadata": {},
   "source": [
    "### 5- Python Program to Remove Punctuations From a String"
   ]
  },
  {
   "cell_type": "code",
   "execution_count": 17,
   "metadata": {},
   "outputs": [
    {
     "name": "stdout",
     "output_type": "stream",
     "text": [
      "Enter your words: hello ---mina ...youssef\n",
      "hello mina youssef\n"
     ]
    }
   ],
   "source": [
    "punctuations = '''!()-[]{};:'\"\\,<>./?@#$%^&*_~'''\n",
    "\n",
    "my_str = input(\"Enter your words: \")\n",
    "no_punct = \"\"\n",
    "for char in my_str:\n",
    "   if char not in punctuations:\n",
    "       no_punct = no_punct + char\n",
    "print(no_punct)"
   ]
  },
  {
   "cell_type": "code",
   "execution_count": null,
   "metadata": {},
   "outputs": [],
   "source": []
  }
 ],
 "metadata": {
  "kernelspec": {
   "display_name": "Python 3",
   "language": "python",
   "name": "python3"
  },
  "language_info": {
   "codemirror_mode": {
    "name": "ipython",
    "version": 3
   },
   "file_extension": ".py",
   "mimetype": "text/x-python",
   "name": "python",
   "nbconvert_exporter": "python",
   "pygments_lexer": "ipython3",
   "version": "3.8.5"
  }
 },
 "nbformat": 4,
 "nbformat_minor": 4
}
