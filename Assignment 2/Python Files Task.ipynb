{
 "cells": [
  {
   "cell_type": "code",
   "execution_count": 84,
   "metadata": {},
   "outputs": [],
   "source": [
    "my_file = open(\"./text.txt\",\"w\")\n",
    "my_file.write(\"hello world1\\n\")\n",
    "my_file.write(\"hello world2\\n\")\n",
    "my_file.write(\"hello world3\\n\")\n",
    "my_file.write(\"hello world4\\n\")\n",
    "my_file.write(\"hello world5\")\n",
    "my_file.close()"
   ]
  },
  {
   "cell_type": "code",
   "execution_count": 89,
   "metadata": {},
   "outputs": [
    {
     "name": "stdout",
     "output_type": "stream",
     "text": [
      "HELLO WORLD1\n",
      "HELLO WORLD2\n",
      "HELLO WORLD3\n",
      "HELLO WORLD4\n",
      "HELLO WORLD5\n"
     ]
    },
    {
     "data": {
      "text/plain": [
       "['hello world1\\n',\n",
       " 'hello world2\\n',\n",
       " 'Hello world3\\n',\n",
       " 'hello world4\\n',\n",
       " 'hello world5']"
      ]
     },
     "execution_count": 89,
     "metadata": {},
     "output_type": "execute_result"
    }
   ],
   "source": [
    "my_file = open(\"./text.txt\",\"r\")\n",
    "print(my_file.read().upper())\n",
    "my_file.seek(0)\n",
    "my_lines = my_file.readlines()\n",
    "my_lines[2] = my_lines[2].capitalize()\n",
    "my_lines"
   ]
  },
  {
   "cell_type": "code",
   "execution_count": 90,
   "metadata": {},
   "outputs": [],
   "source": [
    "with open(\"./text.txt\", \"a\") as my_file:\n",
    "    my_file.write('\\nI Love python')"
   ]
  },
  {
   "cell_type": "code",
   "execution_count": 94,
   "metadata": {},
   "outputs": [
    {
     "name": "stdout",
     "output_type": "stream",
     "text": [
      "hello world1\n",
      "hello world2\n",
      "hello world3\n",
      "hello world4\n",
      "hello world5\n",
      "I Love python\n"
     ]
    }
   ],
   "source": [
    "my_file = open(\"./text.txt\",\"r\")\n",
    "print(my_file.read())"
   ]
  }
 ],
 "metadata": {
  "kernelspec": {
   "display_name": "Python 3",
   "language": "python",
   "name": "python3"
  },
  "language_info": {
   "codemirror_mode": {
    "name": "ipython",
    "version": 3
   },
   "file_extension": ".py",
   "mimetype": "text/x-python",
   "name": "python",
   "nbconvert_exporter": "python",
   "pygments_lexer": "ipython3",
   "version": "3.8.5"
  }
 },
 "nbformat": 4,
 "nbformat_minor": 4
}
