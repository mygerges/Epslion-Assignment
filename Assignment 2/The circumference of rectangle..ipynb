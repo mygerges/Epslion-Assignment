{
 "cells": [
  {
   "cell_type": "code",
   "execution_count": 3,
   "metadata": {},
   "outputs": [
    {
     "name": "stdout",
     "output_type": "stream",
     "text": [
      "Length : 5\n",
      "Width : 10\n",
      "Area of Rectangle :  50\n",
      "circumference of Rectangle :  30\n"
     ]
    }
   ],
   "source": [
    "length =int(input(\"Length : \"))\n",
    "width =int(input(\"Width : \"))\n",
    "area= length*width\n",
    "circumference =2*(length + width)\n",
    "print(\"Area of Rectangle : \", area)\n",
    "print(\"circumference of Rectangle : \", circumference)"
   ]
  }
 ],
 "metadata": {
  "kernelspec": {
   "display_name": "Python 3",
   "language": "python",
   "name": "python3"
  },
  "language_info": {
   "codemirror_mode": {
    "name": "ipython",
    "version": 3
   },
   "file_extension": ".py",
   "mimetype": "text/x-python",
   "name": "python",
   "nbconvert_exporter": "python",
   "pygments_lexer": "ipython3",
   "version": "3.8.5"
  }
 },
 "nbformat": 4,
 "nbformat_minor": 4
}
