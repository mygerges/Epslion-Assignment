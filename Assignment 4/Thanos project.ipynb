{
 "cells": [
  {
   "cell_type": "code",
   "execution_count": 25,
   "metadata": {},
   "outputs": [],
   "source": [
    "import os\n",
    "import random\n",
    "import string"
   ]
  },
  {
   "cell_type": "code",
   "execution_count": 31,
   "metadata": {},
   "outputs": [
    {
     "data": {
      "text/plain": [
       "['abdvnolyky.png',\n",
       " 'ajlhiyfohk.png',\n",
       " 'cuykguczxg.png',\n",
       " 'dbtnwaatnj.png',\n",
       " 'ghznarzxtt.png',\n",
       " 'hdzhpkzpim.png',\n",
       " 'iynwhjnnmq.png',\n",
       " 'jgfczvctav.png',\n",
       " 'jvaezteuut.png',\n",
       " 'kalejpdcsy.png',\n",
       " 'krkgpqtust.png',\n",
       " 'lzqpzulpqo.png',\n",
       " 'moytfvyetk.png',\n",
       " 'nvvjmprpea.png',\n",
       " 'nydqaiulom.png',\n",
       " 'ofouhbxtaz.png',\n",
       " 'oiyhpvmmex.png',\n",
       " 'pcbsskkmhi.png',\n",
       " 'pzvczubcha.png',\n",
       " 'qhgzsghdmi.png',\n",
       " 'qoppbbfpry.png',\n",
       " 'sajkaebggw.png',\n",
       " 'weiumebqvp.png',\n",
       " 'xfnnypcplq.png',\n",
       " 'zcwynkagxb.png']"
      ]
     },
     "execution_count": 31,
     "metadata": {},
     "output_type": "execute_result"
    }
   ],
   "source": [
    "path = os.listdir('./universe')\n",
    "path"
   ]
  },
  {
   "cell_type": "code",
   "execution_count": 32,
   "metadata": {},
   "outputs": [],
   "source": [
    "letter = string.ascii_lowercase"
   ]
  },
  {
   "cell_type": "code",
   "execution_count": 33,
   "metadata": {},
   "outputs": [],
   "source": [
    "for titles in path:\n",
    "    new_title = ''.join(random.choice(letter) for i in range(10)) + '.png'\n",
    "    os.rename(f'./universe/{titles}', f'./universe/{new_title}')"
   ]
  },
  {
   "cell_type": "code",
   "execution_count": null,
   "metadata": {},
   "outputs": [],
   "source": []
  },
  {
   "cell_type": "code",
   "execution_count": null,
   "metadata": {},
   "outputs": [],
   "source": []
  },
  {
   "cell_type": "code",
   "execution_count": null,
   "metadata": {},
   "outputs": [],
   "source": []
  },
  {
   "cell_type": "code",
   "execution_count": null,
   "metadata": {},
   "outputs": [],
   "source": []
  },
  {
   "cell_type": "code",
   "execution_count": null,
   "metadata": {},
   "outputs": [],
   "source": []
  },
  {
   "cell_type": "code",
   "execution_count": null,
   "metadata": {},
   "outputs": [],
   "source": []
  },
  {
   "cell_type": "code",
   "execution_count": null,
   "metadata": {},
   "outputs": [],
   "source": []
  }
 ],
 "metadata": {
  "kernelspec": {
   "display_name": "Python 3",
   "language": "python",
   "name": "python3"
  },
  "language_info": {
   "codemirror_mode": {
    "name": "ipython",
    "version": 3
   },
   "file_extension": ".py",
   "mimetype": "text/x-python",
   "name": "python",
   "nbconvert_exporter": "python",
   "pygments_lexer": "ipython3",
   "version": "3.8.5"
  }
 },
 "nbformat": 4,
 "nbformat_minor": 4
}
